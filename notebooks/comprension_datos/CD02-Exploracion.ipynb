{
 "cells": [
  {
   "cell_type": "markdown",
   "metadata": {},
   "source": [
    "## Máster en Big Data y Data Science\n",
    "\n",
    "### Metodologías de gestión y diseño de proyectos de big data\n",
    "\n",
    "#### AP1 - Exploración de los datos\n",
    "\n",
    "---\n",
    "\n",
    "En esta libreta se realiza un EDA -básico- de los datos del escenario. \n",
    "\n",
    "---"
   ]
  },
  {
   "cell_type": "markdown",
   "metadata": {},
   "source": [
    "##### Importación de librerías"
   ]
  },
  {
   "cell_type": "code",
   "execution_count": 1,
   "metadata": {},
   "outputs": [],
   "source": [
    "import pandas as pd\n",
    "# from ydata_profiling import ProfileReport\n",
    "import dtale as dt\n",
    "import matplotlib.pyplot as plt\n",
    "import seaborn as sns\n",
    "import warnings\n",
    "warnings.filterwarnings('ignore')"
   ]
  },
  {
   "cell_type": "markdown",
   "metadata": {},
   "source": [
    "----\n",
    "\n",
    "##### Lectura de los datasets"
   ]
  },
  {
   "cell_type": "code",
   "execution_count": 2,
   "metadata": {},
   "outputs": [
    {
     "data": {
      "text/html": [
       "<div>\n",
       "<style scoped>\n",
       "    .dataframe tbody tr th:only-of-type {\n",
       "        vertical-align: middle;\n",
       "    }\n",
       "\n",
       "    .dataframe tbody tr th {\n",
       "        vertical-align: top;\n",
       "    }\n",
       "\n",
       "    .dataframe thead th {\n",
       "        text-align: right;\n",
       "    }\n",
       "</style>\n",
       "<table border=\"1\" class=\"dataframe\">\n",
       "  <thead>\n",
       "    <tr style=\"text-align: right;\">\n",
       "      <th></th>\n",
       "      <th>id_cliente</th>\n",
       "      <th>edad</th>\n",
       "      <th>importe_solicitado</th>\n",
       "      <th>duracion_credito</th>\n",
       "      <th>antiguedad_empleado</th>\n",
       "      <th>situacion_vivienda</th>\n",
       "      <th>ingresos</th>\n",
       "      <th>objetivo_credito</th>\n",
       "      <th>pct_ingreso</th>\n",
       "      <th>tasa_interes</th>\n",
       "      <th>estado_credito</th>\n",
       "      <th>falta_pago</th>\n",
       "    </tr>\n",
       "  </thead>\n",
       "  <tbody>\n",
       "    <tr>\n",
       "      <th>0</th>\n",
       "      <td>713061558.0</td>\n",
       "      <td>22</td>\n",
       "      <td>35000</td>\n",
       "      <td>3</td>\n",
       "      <td>123.0</td>\n",
       "      <td>ALQUILER</td>\n",
       "      <td>59000</td>\n",
       "      <td>PERSONAL</td>\n",
       "      <td>0.59</td>\n",
       "      <td>16.02</td>\n",
       "      <td>1</td>\n",
       "      <td>Y</td>\n",
       "    </tr>\n",
       "  </tbody>\n",
       "</table>\n",
       "</div>"
      ],
      "text/plain": [
       "    id_cliente  edad  importe_solicitado  duracion_credito  \\\n",
       "0  713061558.0    22               35000                 3   \n",
       "\n",
       "   antiguedad_empleado situacion_vivienda  ingresos objetivo_credito  \\\n",
       "0                123.0           ALQUILER     59000         PERSONAL   \n",
       "\n",
       "   pct_ingreso  tasa_interes  estado_credito falta_pago  \n",
       "0         0.59         16.02               1          Y  "
      ]
     },
     "execution_count": 2,
     "metadata": {},
     "output_type": "execute_result"
    }
   ],
   "source": [
    "df_creditos = pd.read_csv(\"../../data/raw/datos_creditos.csv\", sep=\";\")\n",
    "df_creditos.head(1)"
   ]
  },
  {
   "cell_type": "code",
   "execution_count": 3,
   "metadata": {},
   "outputs": [
    {
     "data": {
      "text/html": [
       "<div>\n",
       "<style scoped>\n",
       "    .dataframe tbody tr th:only-of-type {\n",
       "        vertical-align: middle;\n",
       "    }\n",
       "\n",
       "    .dataframe tbody tr th {\n",
       "        vertical-align: top;\n",
       "    }\n",
       "\n",
       "    .dataframe thead th {\n",
       "        text-align: right;\n",
       "    }\n",
       "</style>\n",
       "<table border=\"1\" class=\"dataframe\">\n",
       "  <thead>\n",
       "    <tr style=\"text-align: right;\">\n",
       "      <th></th>\n",
       "      <th>id_cliente</th>\n",
       "      <th>antiguedad_cliente</th>\n",
       "      <th>estado_civil</th>\n",
       "      <th>estado_cliente</th>\n",
       "      <th>gastos_ult_12m</th>\n",
       "      <th>genero</th>\n",
       "      <th>limite_credito_tc</th>\n",
       "      <th>nivel_educativo</th>\n",
       "      <th>nivel_tarjeta</th>\n",
       "      <th>operaciones_ult_12m</th>\n",
       "      <th>personas_a_cargo</th>\n",
       "    </tr>\n",
       "  </thead>\n",
       "  <tbody>\n",
       "    <tr>\n",
       "      <th>0</th>\n",
       "      <td>713061558.0</td>\n",
       "      <td>36.0</td>\n",
       "      <td>CASADO</td>\n",
       "      <td>ACTIVO</td>\n",
       "      <td>1088.0</td>\n",
       "      <td>M</td>\n",
       "      <td>4010.0</td>\n",
       "      <td>UNIVERSITARIO_COMPLETO</td>\n",
       "      <td>Blue</td>\n",
       "      <td>24.0</td>\n",
       "      <td>2.0</td>\n",
       "    </tr>\n",
       "  </tbody>\n",
       "</table>\n",
       "</div>"
      ],
      "text/plain": [
       "    id_cliente  antiguedad_cliente estado_civil estado_cliente  \\\n",
       "0  713061558.0                36.0       CASADO         ACTIVO   \n",
       "\n",
       "   gastos_ult_12m genero  limite_credito_tc         nivel_educativo  \\\n",
       "0          1088.0      M             4010.0  UNIVERSITARIO_COMPLETO   \n",
       "\n",
       "  nivel_tarjeta  operaciones_ult_12m  personas_a_cargo  \n",
       "0          Blue                 24.0               2.0  "
      ]
     },
     "execution_count": 3,
     "metadata": {},
     "output_type": "execute_result"
    }
   ],
   "source": [
    "df_tarjetas = pd.read_csv(\"../../data/raw/datos_tarjetas.csv\", sep=\";\")\n",
    "df_tarjetas.head(1)"
   ]
  },
  {
   "cell_type": "markdown",
   "metadata": {},
   "source": [
    "----\n",
    "\n",
    "##### Descripción de los datasets"
   ]
  },
  {
   "cell_type": "code",
   "execution_count": 4,
   "metadata": {},
   "outputs": [],
   "source": [
    "def reporte_descripcion_dataset(df):\n",
    "    columnas = df.columns\n",
    "    print(\"Columnas del dataset:\\n\")\n",
    "    for col in columnas:\n",
    "        print(col)\n",
    "    print(f\"\\nCantidad de filas: {df.shape[0]}\")"
   ]
  },
  {
   "cell_type": "code",
   "execution_count": 5,
   "metadata": {},
   "outputs": [
    {
     "name": "stdout",
     "output_type": "stream",
     "text": [
      "Descripción del dataset 'datos_creditos'\n",
      "Columnas del dataset:\n",
      "\n",
      "id_cliente\n",
      "edad\n",
      "importe_solicitado\n",
      "duracion_credito\n",
      "antiguedad_empleado\n",
      "situacion_vivienda\n",
      "ingresos\n",
      "objetivo_credito\n",
      "pct_ingreso\n",
      "tasa_interes\n",
      "estado_credito\n",
      "falta_pago\n",
      "\n",
      "Cantidad de filas: 10127\n"
     ]
    }
   ],
   "source": [
    "print(\"Descripción del dataset 'datos_creditos'\")\n",
    "reporte_descripcion_dataset(df_creditos)"
   ]
  },
  {
   "cell_type": "code",
   "execution_count": 6,
   "metadata": {},
   "outputs": [
    {
     "name": "stdout",
     "output_type": "stream",
     "text": [
      "Descripción del dataset 'datos_tarjetas'\n",
      "Columnas del dataset:\n",
      "\n",
      "id_cliente\n",
      "antiguedad_cliente\n",
      "estado_civil\n",
      "estado_cliente\n",
      "gastos_ult_12m\n",
      "genero\n",
      "limite_credito_tc\n",
      "nivel_educativo\n",
      "nivel_tarjeta\n",
      "operaciones_ult_12m\n",
      "personas_a_cargo\n",
      "\n",
      "Cantidad de filas: 10127\n"
     ]
    }
   ],
   "source": [
    "print(\"Descripción del dataset 'datos_tarjetas'\")\n",
    "reporte_descripcion_dataset(df_tarjetas)"
   ]
  },
  {
   "cell_type": "markdown",
   "metadata": {},
   "source": [
    "----\n",
    "\n",
    "##### Obtención de metadatos"
   ]
  },
  {
   "cell_type": "code",
   "execution_count": 7,
   "metadata": {},
   "outputs": [
    {
     "name": "stderr",
     "output_type": "stream",
     "text": [
      "2024-04-23 02:02:50,397 - ERROR    - Exception occurred while processing request: ufunc 'isfinite' not supported for the input types, and the inputs could not be safely coerced to any supported types according to the casting rule ''safe''\n",
      "Traceback (most recent call last):\n",
      "  File \"c:\\Users\\aroap\\Desktop\\MASTER_VIU\\13_METODOLOGIAS_GESTION_PROYECTOS_BIG_DATA\\codigo\\13MBID-OCT2324\\.env\\OCT2324\\Lib\\site-packages\\dtale\\views.py\", line 119, in _handle_exceptions\n",
      "    return func(*args, **kwargs)\n",
      "           ^^^^^^^^^^^^^^^^^^^^^\n",
      "  File \"c:\\Users\\aroap\\Desktop\\MASTER_VIU\\13_METODOLOGIAS_GESTION_PROYECTOS_BIG_DATA\\codigo\\13MBID-OCT2324\\.env\\OCT2324\\Lib\\site-packages\\dtale\\views.py\", line 3102, in get_column_analysis\n",
      "    return jsonify(**analysis.build())\n",
      "                     ^^^^^^^^^^^^^^^^\n",
      "  File \"c:\\Users\\aroap\\Desktop\\MASTER_VIU\\13_METODOLOGIAS_GESTION_PROYECTOS_BIG_DATA\\codigo\\13MBID-OCT2324\\.env\\OCT2324\\Lib\\site-packages\\dtale\\column_analysis.py\", line 142, in build\n",
      "    return_data, code = self.analysis.build(self)\n",
      "                        ^^^^^^^^^^^^^^^^^^^^^^^^^\n",
      "  File \"c:\\Users\\aroap\\Desktop\\MASTER_VIU\\13_METODOLOGIAS_GESTION_PROYECTOS_BIG_DATA\\codigo\\13MBID-OCT2324\\.env\\OCT2324\\Lib\\site-packages\\dtale\\column_analysis.py\", line 186, in build\n",
      "    return_data, hist_labels = self.build_histogram_data(\n",
      "                               ^^^^^^^^^^^^^^^^^^^^^^^^^^\n",
      "  File \"c:\\Users\\aroap\\Desktop\\MASTER_VIU\\13_METODOLOGIAS_GESTION_PROYECTOS_BIG_DATA\\codigo\\13MBID-OCT2324\\.env\\OCT2324\\Lib\\site-packages\\dtale\\column_analysis.py\", line 162, in build_histogram_data\n",
      "    hist_data, hist_labels = np.histogram(series, **hist_kwargs)\n",
      "                             ^^^^^^^^^^^^^^^^^^^^^^^^^^^^^^^^^^^\n",
      "  File \"<__array_function__ internals>\", line 200, in histogram\n",
      "  File \"c:\\Users\\aroap\\Desktop\\MASTER_VIU\\13_METODOLOGIAS_GESTION_PROYECTOS_BIG_DATA\\codigo\\13MBID-OCT2324\\.env\\OCT2324\\Lib\\site-packages\\numpy\\lib\\histograms.py\", line 780, in histogram\n",
      "    bin_edges, uniform_bins = _get_bin_edges(a, bins, range, weights)\n",
      "                              ^^^^^^^^^^^^^^^^^^^^^^^^^^^^^^^^^^^^^^^\n",
      "  File \"c:\\Users\\aroap\\Desktop\\MASTER_VIU\\13_METODOLOGIAS_GESTION_PROYECTOS_BIG_DATA\\codigo\\13MBID-OCT2324\\.env\\OCT2324\\Lib\\site-packages\\numpy\\lib\\histograms.py\", line 426, in _get_bin_edges\n",
      "    first_edge, last_edge = _get_outer_edges(a, range)\n",
      "                            ^^^^^^^^^^^^^^^^^^^^^^^^^^\n",
      "  File \"c:\\Users\\aroap\\Desktop\\MASTER_VIU\\13_METODOLOGIAS_GESTION_PROYECTOS_BIG_DATA\\codigo\\13MBID-OCT2324\\.env\\OCT2324\\Lib\\site-packages\\numpy\\lib\\histograms.py\", line 322, in _get_outer_edges\n",
      "    if not (np.isfinite(first_edge) and np.isfinite(last_edge)):\n",
      "            ^^^^^^^^^^^^^^^^^^^^^^^\n",
      "TypeError: ufunc 'isfinite' not supported for the input types, and the inputs could not be safely coerced to any supported types according to the casting rule ''safe''\n",
      "2024-04-23 02:06:52,023 - ERROR    - Exception occurred while processing request: Can only use .str accessor with string values!\n",
      "Traceback (most recent call last):\n",
      "  File \"c:\\Users\\aroap\\Desktop\\MASTER_VIU\\13_METODOLOGIAS_GESTION_PROYECTOS_BIG_DATA\\codigo\\13MBID-OCT2324\\.env\\OCT2324\\Lib\\site-packages\\dtale\\views.py\", line 119, in _handle_exceptions\n",
      "    return func(*args, **kwargs)\n",
      "           ^^^^^^^^^^^^^^^^^^^^^\n",
      "  File \"c:\\Users\\aroap\\Desktop\\MASTER_VIU\\13_METODOLOGIAS_GESTION_PROYECTOS_BIG_DATA\\codigo\\13MBID-OCT2324\\.env\\OCT2324\\Lib\\site-packages\\dtale\\views.py\", line 3102, in get_column_analysis\n",
      "    return jsonify(**analysis.build())\n",
      "                     ^^^^^^^^^^^^^^^^\n",
      "  File \"c:\\Users\\aroap\\Desktop\\MASTER_VIU\\13_METODOLOGIAS_GESTION_PROYECTOS_BIG_DATA\\codigo\\13MBID-OCT2324\\.env\\OCT2324\\Lib\\site-packages\\dtale\\column_analysis.py\", line 142, in build\n",
      "    return_data, code = self.analysis.build(self)\n",
      "                        ^^^^^^^^^^^^^^^^^^^^^^^^^\n",
      "  File \"c:\\Users\\aroap\\Desktop\\MASTER_VIU\\13_METODOLOGIAS_GESTION_PROYECTOS_BIG_DATA\\codigo\\13MBID-OCT2324\\.env\\OCT2324\\Lib\\site-packages\\dtale\\column_analysis.py\", line 458, in build\n",
      "    hist = self.build_hist(s, code)\n",
      "           ^^^^^^^^^^^^^^^^^^^^^^^^\n",
      "  File \"c:\\Users\\aroap\\Desktop\\MASTER_VIU\\13_METODOLOGIAS_GESTION_PROYECTOS_BIG_DATA\\codigo\\13MBID-OCT2324\\.env\\OCT2324\\Lib\\site-packages\\dtale\\column_analysis.py\", line 512, in build_hist\n",
      "    pd.value_counts(s.str.split(expand=True).stack())\n",
      "                    ^^^^^\n",
      "  File \"c:\\Users\\aroap\\Desktop\\MASTER_VIU\\13_METODOLOGIAS_GESTION_PROYECTOS_BIG_DATA\\codigo\\13MBID-OCT2324\\.env\\OCT2324\\Lib\\site-packages\\pandas\\core\\generic.py\", line 5989, in __getattr__\n",
      "    return object.__getattribute__(self, name)\n",
      "           ^^^^^^^^^^^^^^^^^^^^^^^^^^^^^^^^^^^\n",
      "  File \"c:\\Users\\aroap\\Desktop\\MASTER_VIU\\13_METODOLOGIAS_GESTION_PROYECTOS_BIG_DATA\\codigo\\13MBID-OCT2324\\.env\\OCT2324\\Lib\\site-packages\\pandas\\core\\accessor.py\", line 224, in __get__\n",
      "    accessor_obj = self._accessor(obj)\n",
      "                   ^^^^^^^^^^^^^^^^^^^\n",
      "  File \"c:\\Users\\aroap\\Desktop\\MASTER_VIU\\13_METODOLOGIAS_GESTION_PROYECTOS_BIG_DATA\\codigo\\13MBID-OCT2324\\.env\\OCT2324\\Lib\\site-packages\\pandas\\core\\strings\\accessor.py\", line 181, in __init__\n",
      "    self._inferred_dtype = self._validate(data)\n",
      "                           ^^^^^^^^^^^^^^^^^^^^\n",
      "  File \"c:\\Users\\aroap\\Desktop\\MASTER_VIU\\13_METODOLOGIAS_GESTION_PROYECTOS_BIG_DATA\\codigo\\13MBID-OCT2324\\.env\\OCT2324\\Lib\\site-packages\\pandas\\core\\strings\\accessor.py\", line 235, in _validate\n",
      "    raise AttributeError(\"Can only use .str accessor with string values!\")\n",
      "AttributeError: Can only use .str accessor with string values!\n"
     ]
    }
   ],
   "source": [
    "# Se usa la librería dtale para poder obtener una vista interactiva de los datos\n",
    "\n",
    "# Dataset: datos_creditos\n",
    "\n",
    "creditos = dt.show(df_creditos)\n",
    "creditos.open_browser()"
   ]
  },
  {
   "cell_type": "code",
   "execution_count": 8,
   "metadata": {},
   "outputs": [
    {
     "name": "stderr",
     "output_type": "stream",
     "text": [
      "2024-04-23 02:16:19,097 - ERROR    - Exception occurred while processing request: Can only use .str accessor with string values!\n",
      "Traceback (most recent call last):\n",
      "  File \"c:\\Users\\aroap\\Desktop\\MASTER_VIU\\13_METODOLOGIAS_GESTION_PROYECTOS_BIG_DATA\\codigo\\13MBID-OCT2324\\.env\\OCT2324\\Lib\\site-packages\\dtale\\views.py\", line 119, in _handle_exceptions\n",
      "    return func(*args, **kwargs)\n",
      "           ^^^^^^^^^^^^^^^^^^^^^\n",
      "  File \"c:\\Users\\aroap\\Desktop\\MASTER_VIU\\13_METODOLOGIAS_GESTION_PROYECTOS_BIG_DATA\\codigo\\13MBID-OCT2324\\.env\\OCT2324\\Lib\\site-packages\\dtale\\views.py\", line 3102, in get_column_analysis\n",
      "    return jsonify(**analysis.build())\n",
      "                     ^^^^^^^^^^^^^^^^\n",
      "  File \"c:\\Users\\aroap\\Desktop\\MASTER_VIU\\13_METODOLOGIAS_GESTION_PROYECTOS_BIG_DATA\\codigo\\13MBID-OCT2324\\.env\\OCT2324\\Lib\\site-packages\\dtale\\column_analysis.py\", line 142, in build\n",
      "    return_data, code = self.analysis.build(self)\n",
      "                        ^^^^^^^^^^^^^^^^^^^^^^^^^\n",
      "  File \"c:\\Users\\aroap\\Desktop\\MASTER_VIU\\13_METODOLOGIAS_GESTION_PROYECTOS_BIG_DATA\\codigo\\13MBID-OCT2324\\.env\\OCT2324\\Lib\\site-packages\\dtale\\column_analysis.py\", line 458, in build\n",
      "    hist = self.build_hist(s, code)\n",
      "           ^^^^^^^^^^^^^^^^^^^^^^^^\n",
      "  File \"c:\\Users\\aroap\\Desktop\\MASTER_VIU\\13_METODOLOGIAS_GESTION_PROYECTOS_BIG_DATA\\codigo\\13MBID-OCT2324\\.env\\OCT2324\\Lib\\site-packages\\dtale\\column_analysis.py\", line 512, in build_hist\n",
      "    pd.value_counts(s.str.split(expand=True).stack())\n",
      "                    ^^^^^\n",
      "  File \"c:\\Users\\aroap\\Desktop\\MASTER_VIU\\13_METODOLOGIAS_GESTION_PROYECTOS_BIG_DATA\\codigo\\13MBID-OCT2324\\.env\\OCT2324\\Lib\\site-packages\\pandas\\core\\generic.py\", line 5989, in __getattr__\n",
      "    return object.__getattribute__(self, name)\n",
      "           ^^^^^^^^^^^^^^^^^^^^^^^^^^^^^^^^^^^\n",
      "  File \"c:\\Users\\aroap\\Desktop\\MASTER_VIU\\13_METODOLOGIAS_GESTION_PROYECTOS_BIG_DATA\\codigo\\13MBID-OCT2324\\.env\\OCT2324\\Lib\\site-packages\\pandas\\core\\accessor.py\", line 224, in __get__\n",
      "    accessor_obj = self._accessor(obj)\n",
      "                   ^^^^^^^^^^^^^^^^^^^\n",
      "  File \"c:\\Users\\aroap\\Desktop\\MASTER_VIU\\13_METODOLOGIAS_GESTION_PROYECTOS_BIG_DATA\\codigo\\13MBID-OCT2324\\.env\\OCT2324\\Lib\\site-packages\\pandas\\core\\strings\\accessor.py\", line 181, in __init__\n",
      "    self._inferred_dtype = self._validate(data)\n",
      "                           ^^^^^^^^^^^^^^^^^^^^\n",
      "  File \"c:\\Users\\aroap\\Desktop\\MASTER_VIU\\13_METODOLOGIAS_GESTION_PROYECTOS_BIG_DATA\\codigo\\13MBID-OCT2324\\.env\\OCT2324\\Lib\\site-packages\\pandas\\core\\strings\\accessor.py\", line 235, in _validate\n",
      "    raise AttributeError(\"Can only use .str accessor with string values!\")\n",
      "AttributeError: Can only use .str accessor with string values!\n"
     ]
    }
   ],
   "source": [
    "# Dataset: datos_tarjetas\n",
    "\n",
    "tarjetas = dt.show(df_tarjetas)\n",
    "tarjetas.open_browser()"
   ]
  },
  {
   "cell_type": "markdown",
   "metadata": {},
   "source": [
    "----\n",
    "\n",
    "##### Gráficos de interés"
   ]
  },
  {
   "cell_type": "code",
   "execution_count": 15,
   "metadata": {},
   "outputs": [
    {
     "data": {
      "image/png": "[encoded data removed]",
      "text/plain": [
       "<Figure size 700x500 with 1 Axes>"
      ]
     },
     "metadata": {},
     "output_type": "display_data"
    }
   ],
   "source": [
    "plt.figure(figsize=(7,5))\n",
    "sns.countplot(y=df_creditos['objetivo_credito'], order=df_creditos['objetivo_credito'].value_counts().index)\n",
    "plt.show()"
   ]
  },
  {
   "cell_type": "code",
   "execution_count": 18,
   "metadata": {},
   "outputs": [
    {
     "data": {
      "image/png": "[encoded data removed]",
      "text/plain": [
       "<Figure size 700x500 with 1 Axes>"
      ]
     },
     "metadata": {},
     "output_type": "display_data"
    }
   ],
   "source": [
    "plt.figure(figsize=(7,5))\n",
    "plt.bar(df_creditos.index, df_creditos['importe_solicitado'])\n",
    "plt.show()"
   ]
  },
  {
   "cell_type": "code",
   "execution_count": 20,
   "metadata": {},
   "outputs": [
    {
     "data": {
      "image/png": "[encoded data removed]",
      "text/plain": [
       "<Figure size 700x500 with 1 Axes>"
      ]
     },
     "metadata": {},
     "output_type": "display_data"
    }
   ],
   "source": [
    "plt.figure(figsize=(7,5))\n",
    "sns.countplot(y=df_tarjetas['nivel_tarjeta'], order=df_tarjetas['nivel_tarjeta'].value_counts().index)\n",
    "plt.show()"
   ]
  }
 ],
 "metadata": {
  "kernelspec": {
   "display_name": "data",
   "language": "python",
   "name": "python3"
  },
  "language_info": {
   "codemirror_mode": {
    "name": "ipython",
    "version": 3
   },
   "file_extension": ".py",
   "mimetype": "text/x-python",
   "name": "python",
   "nbconvert_exporter": "python",
   "pygments_lexer": "ipython3",
   "version": "3.11.5"
  }
 },
 "nbformat": 4,
 "nbformat_minor": 2
}
